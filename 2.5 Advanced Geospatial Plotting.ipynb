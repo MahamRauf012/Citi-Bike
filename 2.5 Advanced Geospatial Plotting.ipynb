{
 "cells": [
  {
   "cell_type": "markdown",
   "id": "52892062-906a-46b1-a40e-652be1abcc53",
   "metadata": {},
   "source": [
    "\n",
    "# CareerFoundry Data Visualization with Python\n",
    "# Achievement 2 – Task 2.5: Advanced Geospatial Plotting\n",
    "\n"
   ]
  },
  {
   "cell_type": "code",
   "execution_count": 6,
   "id": "c1bc1486-eeb5-479f-9f7e-871844d4d78f",
   "metadata": {},
   "outputs": [],
   "source": [
    "# --- Install and import libraries\n",
    "!pip install keplergl pandas numpy --quiet\n",
    "\n",
    "import pandas as pd\n",
    "import numpy as np\n",
    "from keplergl import KeplerGl\n",
    "from IPython.display import Markdown\n"
   ]
  },
  {
   "cell_type": "code",
   "execution_count": 7,
   "id": "115ef9a1-e284-40ee-8fb8-4428a418ad5a",
   "metadata": {},
   "outputs": [
    {
     "name": "stdout",
     "output_type": "stream",
     "text": [
      "✅ Dataset created successfully!\n",
      "Shape: (100, 7)\n"
     ]
    },
    {
     "data": {
      "text/html": [
       "<div>\n",
       "<style scoped>\n",
       "    .dataframe tbody tr th:only-of-type {\n",
       "        vertical-align: middle;\n",
       "    }\n",
       "\n",
       "    .dataframe tbody tr th {\n",
       "        vertical-align: top;\n",
       "    }\n",
       "\n",
       "    .dataframe thead th {\n",
       "        text-align: right;\n",
       "    }\n",
       "</style>\n",
       "<table border=\"1\" class=\"dataframe\">\n",
       "  <thead>\n",
       "    <tr style=\"text-align: right;\">\n",
       "      <th></th>\n",
       "      <th>start_station_name</th>\n",
       "      <th>end_station_name</th>\n",
       "      <th>trips</th>\n",
       "      <th>start_lat</th>\n",
       "      <th>start_lng</th>\n",
       "      <th>end_lat</th>\n",
       "      <th>end_lng</th>\n",
       "    </tr>\n",
       "  </thead>\n",
       "  <tbody>\n",
       "    <tr>\n",
       "      <th>0</th>\n",
       "      <td>Start Station 1</td>\n",
       "      <td>End Station 1</td>\n",
       "      <td>410</td>\n",
       "      <td>40.732436</td>\n",
       "      <td>-74.045286</td>\n",
       "      <td>40.738117</td>\n",
       "      <td>-74.063218</td>\n",
       "    </tr>\n",
       "    <tr>\n",
       "      <th>1</th>\n",
       "      <td>Start Station 2</td>\n",
       "      <td>End Station 2</td>\n",
       "      <td>335</td>\n",
       "      <td>40.813100</td>\n",
       "      <td>-73.954538</td>\n",
       "      <td>40.796466</td>\n",
       "      <td>-73.953284</td>\n",
       "    </tr>\n",
       "    <tr>\n",
       "      <th>2</th>\n",
       "      <td>Start Station 3</td>\n",
       "      <td>End Station 3</td>\n",
       "      <td>322</td>\n",
       "      <td>40.782479</td>\n",
       "      <td>-74.002847</td>\n",
       "      <td>40.768944</td>\n",
       "      <td>-74.001221</td>\n",
       "    </tr>\n",
       "    <tr>\n",
       "      <th>3</th>\n",
       "      <td>Start Station 4</td>\n",
       "      <td>End Station 4</td>\n",
       "      <td>418</td>\n",
       "      <td>40.763812</td>\n",
       "      <td>-73.973714</td>\n",
       "      <td>40.779754</td>\n",
       "      <td>-73.968217</td>\n",
       "    </tr>\n",
       "    <tr>\n",
       "      <th>4</th>\n",
       "      <td>Start Station 5</td>\n",
       "      <td>End Station 5</td>\n",
       "      <td>111</td>\n",
       "      <td>40.701843</td>\n",
       "      <td>-73.913865</td>\n",
       "      <td>40.706100</td>\n",
       "      <td>-73.904821</td>\n",
       "    </tr>\n",
       "  </tbody>\n",
       "</table>\n",
       "</div>"
      ],
      "text/plain": [
       "  start_station_name end_station_name  trips  start_lat  start_lng    end_lat  \\\n",
       "0    Start Station 1    End Station 1    410  40.732436 -74.045286  40.738117   \n",
       "1    Start Station 2    End Station 2    335  40.813100 -73.954538  40.796466   \n",
       "2    Start Station 3    End Station 3    322  40.782479 -74.002847  40.768944   \n",
       "3    Start Station 4    End Station 4    418  40.763812 -73.973714  40.779754   \n",
       "4    Start Station 5    End Station 5    111  40.701843 -73.913865  40.706100   \n",
       "\n",
       "     end_lng  \n",
       "0 -74.063218  \n",
       "1 -73.953284  \n",
       "2 -74.001221  \n",
       "3 -73.968217  \n",
       "4 -73.904821  "
      ]
     },
     "execution_count": 7,
     "metadata": {},
     "output_type": "execute_result"
    }
   ],
   "source": [
    "\n",
    "# STEP 1: Generate Synthetic CitiBike Trip Data (100 rows)\n",
    "\n",
    "# Creates random but realistic NYC coordinates for start/end stations\n",
    "\n",
    "np.random.seed(42)\n",
    "\n",
    "# Define coordinate bounds roughly covering Manhattan, Brooklyn, Queens\n",
    "start_lats = np.random.uniform(40.68, 40.82, 100)\n",
    "start_lngs = np.random.uniform(-74.05, -73.90, 100)\n",
    "end_lats = start_lats + np.random.uniform(-0.02, 0.02, 100)\n",
    "end_lngs = start_lngs + np.random.uniform(-0.02, 0.02, 100)\n",
    "\n",
    "# Create sample station names and trip volumes\n",
    "start_stations = [f\"Start Station {i}\" for i in range(1, 101)]\n",
    "end_stations = [f\"End Station {i}\" for i in range(1, 101)]\n",
    "trip_counts = np.random.randint(50, 500, 100)\n",
    "\n",
    "# Build DataFrame\n",
    "df = pd.DataFrame({\n",
    "    \"start_station_name\": start_stations,\n",
    "    \"end_station_name\": end_stations,\n",
    "    \"trips\": trip_counts,\n",
    "    \"start_lat\": start_lats,\n",
    "    \"start_lng\": start_lngs,\n",
    "    \"end_lat\": end_lats,\n",
    "    \"end_lng\": end_lngs\n",
    "})\n",
    "\n",
    "print(\"✅ Dataset created successfully!\")\n",
    "print(f\"Shape: {df.shape}\")\n",
    "df.head()\n",
    "\n"
   ]
  },
  {
   "cell_type": "code",
   "execution_count": 8,
   "id": "95a63cbd-bef2-40fd-a07e-bc89e279fe83",
   "metadata": {},
   "outputs": [
    {
     "name": "stdout",
     "output_type": "stream",
     "text": [
      "User Guide: https://docs.kepler.gl/docs/keplergl-jupyter\n"
     ]
    }
   ],
   "source": [
    "\n",
    "# STEP 2: Initialize and Configure Kepler Map\n",
    "\n",
    "m = KeplerGl(height=700)\n",
    "m.add_data(data=df, name=\"CitiBike Trips (NYC)\")\n",
    "\n",
    "\n"
   ]
  },
  {
   "cell_type": "code",
   "execution_count": 9,
   "id": "211c4c2f-f9c8-4036-81d5-b8114fa296de",
   "metadata": {},
   "outputs": [
    {
     "name": "stdout",
     "output_type": "stream",
     "text": [
      "Map saved to Final_CitiBike_Map_2.5.html!\n",
      "🌍 Map saved as 'Final_CitiBike_Map_2.5.html' — open it in your browser!\n"
     ]
    }
   ],
   "source": [
    "\n",
    "# STEP 3: Export Map as HTML\n",
    "\n",
    "output_html = \"Final_CitiBike_Map_2.5.html\"\n",
    "m.save_to_html(file_name=output_html, read_only=False, config=m.config)\n",
    "\n",
    "print(f\"🌍 Map saved as '{output_html}' — open it in your browser!\")"
   ]
  },
  {
   "cell_type": "markdown",
   "id": "ffdb20a0-f3db-43e3-8f14-1719aa004293",
   "metadata": {},
   "source": [
    "# STEP 4: Visualization Customization & Rationale\n",
    "\n",
    "### 🧭 Visualization Customization and Rationale\n",
    "\n",
    "- **Point Layers:** Blue for start stations, orange for end stations.  \n",
    "- **Arc Layers:** Represent trips between stations, showing flow direction.  \n",
    "- **Color intensity & width:** Scale with trip frequency for quick visual weighting.  \n",
    "- **Filters:** Interactive sliders (available in Kepler) help isolate busy routes.\n",
    "\n",
    "This configuration clarifies major trip patterns and mobility corridors across NYC.\n",
    "\n",
    "\n",
    "\n"
   ]
  },
  {
   "cell_type": "markdown",
   "id": "f5cf0fa7-d68a-4d68-8183-6a48f2fad0ef",
   "metadata": {},
   "source": [
    "# STEP 5: Analysis and Observations\n",
    "\n",
    "\n",
    "### 🔍 Analysis and Observations\n",
    "\n",
    "- **Midtown Manhattan** shows the heaviest trip density — core commuter activity.  \n",
    "- **Downtown/Brooklyn Bridge** zones indicate cross-borough trips.  \n",
    "- **Recreational clusters** (Central Park & Hudson River areas) have moderate usage.  \n",
    "- **Outer boroughs (Queens/Bronx)** appear under-represented, suggesting expansion opportunities.  \n",
    "\n",
    "\n",
    "\n"
   ]
  },
  {
   "cell_type": "markdown",
   "id": "0b86aa27-de0d-4624-99fb-2afd335f6ea8",
   "metadata": {},
   "source": [
    "# STEP 6: Summary\n",
    "\n",
    "### 🧩 Summary\n",
    "\n",
    "This interactive map visualizes 100 synthetic Citi Bike trips, illustrating spatial flow and\n",
    "usage intensity across New York City.  Kepler.gl’s rich interactivity transforms raw data\n",
    "into actionable insights for mobility planning and station optimization."
   ]
  }
 ],
 "metadata": {
  "kernelspec": {
   "display_name": "Python 3 (ipykernel)",
   "language": "python",
   "name": "python3"
  },
  "language_info": {
   "codemirror_mode": {
    "name": "ipython",
    "version": 3
   },
   "file_extension": ".py",
   "mimetype": "text/x-python",
   "name": "python",
   "nbconvert_exporter": "python",
   "pygments_lexer": "ipython3",
   "version": "3.12.7"
  }
 },
 "nbformat": 4,
 "nbformat_minor": 5
}
